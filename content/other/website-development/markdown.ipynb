{
 "cells": [
  {
   "cell_type": "markdown",
   "metadata": {},
   "source": [
    "## Overview\n",
    "\n",
    "Markdown is a lightweight markup language that you can use to add formatting elements to plaintext documents.\n",
    "\n",
    "Both Hugo and Jupyter use markdown:\n",
    "- Hugo converts markdown files into HTML when generating this website.\n",
    "- Jupyter Noterbooks support mardown syntax in markdown cells.\n"
   ]
  },
  {
   "cell_type": "markdown",
   "metadata": {},
   "source": [
    "## Headers\n",
    "\n",
    "To create a heading add number signs (#) in front of the heading.\n",
    "\n",
    "`# H1 (use for titles)` \\\n",
    "`## H2 (use for major headings)` \\\n",
    "`### H3 (use for subheadings)` \\\n",
    "`#### H4 (use for 4th level subheadings)`"
   ]
  },
  {
   "cell_type": "markdown",
   "metadata": {},
   "source": [
    "## Formatting Text\n",
    "\n",
    "**Bold** text:\\\n",
    "`**Bold** text`\n",
    "\n",
    "*Italic text*:\\\n",
    "`*Italic* text`\n",
    "\n",
    "~~Strikethrough~~ text:\\\n",
    "`~~Strikethrough~~ text`"
   ]
  },
  {
   "cell_type": "markdown",
   "metadata": {},
   "source": [
    "## Links\n",
    "\n",
    "[Link text to URL such as Google:](https://www.google.com)\n",
    "\n",
    "`[Link text to URL such as Google](https://www.google.com)`\n",
    "\n",
    "[Link text to a section:](#title-of-section)\n",
    "\n",
    "`[Link text to a section](#title-of-section)`\n"
   ]
  },
  {
   "cell_type": "markdown",
   "metadata": {},
   "source": [
    "## Images\n",
    "\n",
    "`![alt text](image.jpg)`"
   ]
  },
  {
   "cell_type": "markdown",
   "metadata": {},
   "source": [
    "## Ignore Markdown\n",
    "\n",
    "Add a backslash ( \\ ) to make markdown ignore the next formatting character"
   ]
  },
  {
   "cell_type": "markdown",
   "metadata": {},
   "source": [
    "## Tables\n",
    "\n",
    "| Formatting | Markdown code |\n",
    "| :-------------------------- | :----------- |\n",
    "| Bold text | ```**Bold** text``` |\n",
    "| Italic text | ```*Italic* text``` |\n",
    "| Strikethrough text | ```~~Strikethrough~~ text``` |\n"
   ]
  },
  {
   "cell_type": "markdown",
   "metadata": {},
   "source": [
    "## Further reading:\n",
    "- https://www.markdownguide.org/\n",
    "- https://daringfireball.net/projects/markdown"
   ]
  },
  {
   "cell_type": "code",
   "execution_count": null,
   "metadata": {},
   "outputs": [],
   "source": []
  }
 ],
 "metadata": {
  "kernelspec": {
   "display_name": "venv (notes)",
   "language": "python",
   "name": "notes_venv"
  },
  "language_info": {
   "codemirror_mode": {
    "name": "ipython",
    "version": 3
   },
   "file_extension": ".py",
   "mimetype": "text/x-python",
   "name": "python",
   "nbconvert_exporter": "python",
   "pygments_lexer": "ipython3",
   "version": "3.9.1"
  }
 },
 "nbformat": 4,
 "nbformat_minor": 4
}
