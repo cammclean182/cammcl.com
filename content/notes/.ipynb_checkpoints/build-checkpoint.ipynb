{
 "cells": [
  {
   "cell_type": "code",
   "execution_count": 14,
   "metadata": {},
   "outputs": [],
   "source": [
    "# Load libraries\n",
    "import os\n",
    "import re\n",
    "import fileinput\n",
    "import sys\n",
    "from glob import glob\n",
    "import shutil\n"
   ]
  },
  {
   "cell_type": "code",
   "execution_count": 33,
   "metadata": {},
   "outputs": [
    {
     "data": {
      "text/plain": [
       "['./build.ipynb',\n",
       " './data_visualisation\\\\matplotlib.ipynb',\n",
       " './data_visualisation\\\\plotly.ipynb',\n",
       " './pandas\\\\pandas_basics.ipynb',\n",
       " './pandas\\\\pandas_settings.ipynb',\n",
       " './version_control\\\\github_basics.ipynb',\n",
       " './website_development\\\\markdown_notes.ipynb']"
      ]
     },
     "execution_count": 33,
     "metadata": {},
     "output_type": "execute_result"
    }
   ],
   "source": [
    "# Create path to content\n",
    "path = './'\n",
    "\n",
    "# Find all jupyter notebooks in all content folders\n",
    "all_ipynb_files = [os.path.join(root, name)\n",
    "                   for root, dirs, files in os.walk(path)\n",
    "                       for name in files\n",
    "                           if name.endswith((\".ipynb\"))]\n",
    "\n",
    "# Remove all notebooks from checkpoint folders\n",
    "ipynb_files = [x for x in all_ipynb_files if \".ipynb_checkpoints\" not in x ]\n",
    "ipynb_files"
   ]
  },
  {
   "cell_type": "code",
   "execution_count": 36,
   "metadata": {},
   "outputs": [
    {
     "data": {
      "text/plain": [
       "['./',\n",
       " './data_visualisation',\n",
       " './pandas',\n",
       " './version_control',\n",
       " './website_development']"
      ]
     },
     "execution_count": 36,
     "metadata": {},
     "output_type": "execute_result"
    }
   ],
   "source": [
    "# Get all folders in directory\n",
    "folders = [x[0] for x in os.walk(path)]\n",
    "# Delete .ipynb checkpoint folders\n",
    "folders = [x for x in folders if \".ipynb_checkpoints\" not in x]\n",
    "folders"
   ]
  },
  {
   "cell_type": "code",
   "execution_count": 1,
   "metadata": {},
   "outputs": [],
   "source": [
    "# Load libraries\n",
    "import os\n",
    "import re\n",
    "import fileinput\n",
    "import sys\n",
    "from glob import glob\n",
    "import shutil\n",
    "\n",
    "\n",
    "# Create path to content\n",
    "path = 'content/'\n",
    "\n",
    "# Find all jupyter notebooks in all content folders\n",
    "all_ipynb_files = [os.path.join(root, name)\n",
    "                   for root, dirs, files in os.walk(path)\n",
    "                       for name in files\n",
    "                           if name.endswith((\".ipynb\"))]\n",
    "\n",
    "# Remove all notebooks from checkpoint folders\n",
    "ipynb_files = [ x for x in all_ipynb_files if \".ipynb_checkpoints\" not in x ]\n",
    "ipynb_files"
   ]
  },
  {
   "cell_type": "code",
   "execution_count": 6,
   "metadata": {},
   "outputs": [
    {
     "name": "stdout",
     "output_type": "stream",
     "text": [
      "build.ipynb\n",
      "_index.md\n"
     ]
    }
   ],
   "source": [
    "import pathlib\n",
    "\n",
    "filename_list = []\n",
    "\n",
    "notes_folder = pathlib.Path().resolve()\n",
    "notes_folder\n",
    "\n",
    "file_iterator = notes_folder.iterdir()\n",
    "file_iterator\n",
    "\n",
    "for entry in file_iterator:\n",
    "    if entry.is_file():\n",
    "        print(entry.name)\n",
    "        #filename_list.append(entry.name)"
   ]
  },
  {
   "cell_type": "code",
   "execution_count": 7,
   "metadata": {},
   "outputs": [
    {
     "ename": "SyntaxError",
     "evalue": "(unicode error) 'unicodeescape' codec can't decode bytes in position 2-3: truncated \\UXXXXXXXX escape (<ipython-input-7-b6a9f07353be>, line 3)",
     "output_type": "error",
     "traceback": [
      "\u001b[1;36m  File \u001b[1;32m\"<ipython-input-7-b6a9f07353be>\"\u001b[1;36m, line \u001b[1;32m3\u001b[0m\n\u001b[1;33m    paths = Path('C:\\Users\\admin').glob('**/*.png')\u001b[0m\n\u001b[1;37m                                 ^\u001b[0m\n\u001b[1;31mSyntaxError\u001b[0m\u001b[1;31m:\u001b[0m (unicode error) 'unicodeescape' codec can't decode bytes in position 2-3: truncated \\UXXXXXXXX escape\n"
     ]
    }
   ],
   "source": [
    "from pathlib import Path\n",
    "\n",
    "notes_folder = pathlib.Path().resolve()\n",
    "paths = Path('C:\\Users\\admin').glob('**/*.png')\n",
    "for path in paths:\n",
    "    # because path is object not string\n",
    "    path_in_str = str(path)\n",
    "    # Do thing with the path\n",
    "    print(path_in_str)"
   ]
  },
  {
   "cell_type": "code",
   "execution_count": null,
   "metadata": {},
   "outputs": [],
   "source": [
    "notes_folder"
   ]
  },
  {
   "cell_type": "code",
   "execution_count": 12,
   "metadata": {},
   "outputs": [
    {
     "name": "stdout",
     "output_type": "stream",
     "text": [
      "C:\\Users\\camer\\Projects\\cammcl.com\\content\\notes\\build.ipynb\n",
      "C:\\Users\\camer\\Projects\\cammcl.com\\content\\notes\\.ipynb_checkpoints\\build-checkpoint.ipynb\n",
      "C:\\Users\\camer\\Projects\\cammcl.com\\content\\notes\\data_visualisation\\matplotlib.ipynb\n",
      "C:\\Users\\camer\\Projects\\cammcl.com\\content\\notes\\data_visualisation\\plotly.ipynb\n",
      "C:\\Users\\camer\\Projects\\cammcl.com\\content\\notes\\data_visualisation\\.ipynb_checkpoints\\matplotlib-checkpoint.ipynb\n",
      "C:\\Users\\camer\\Projects\\cammcl.com\\content\\notes\\data_visualisation\\.ipynb_checkpoints\\plotly-checkpoint.ipynb\n",
      "C:\\Users\\camer\\Projects\\cammcl.com\\content\\notes\\pandas\\pandas_basics.ipynb\n",
      "C:\\Users\\camer\\Projects\\cammcl.com\\content\\notes\\pandas\\pandas_settings.ipynb\n",
      "C:\\Users\\camer\\Projects\\cammcl.com\\content\\notes\\pandas\\.ipynb_checkpoints\\pandas_basics-checkpoint.ipynb\n",
      "C:\\Users\\camer\\Projects\\cammcl.com\\content\\notes\\pandas\\.ipynb_checkpoints\\pandas_settings-checkpoint.ipynb\n",
      "C:\\Users\\camer\\Projects\\cammcl.com\\content\\notes\\version_control\\github_basics.ipynb\n",
      "C:\\Users\\camer\\Projects\\cammcl.com\\content\\notes\\version_control\\.ipynb_checkpoints\\github_basics-checkpoint.ipynb\n",
      "C:\\Users\\camer\\Projects\\cammcl.com\\content\\notes\\website_development\\markdown_notes.ipynb\n",
      "C:\\Users\\camer\\Projects\\cammcl.com\\content\\notes\\website_development\\.ipynb_checkpoints\\markdown_notes-checkpoint.ipynb\n"
     ]
    }
   ],
   "source": [
    "paths = pathlib.Path(notes_folder).glob('**/*.ipynb')\n",
    "paths\n",
    "\n",
    "for path in paths:\n",
    "    # because path is object not string\n",
    "    path_in_str = str(path)\n",
    "    # Do thing with the path\n",
    "    print(path_in_str)"
   ]
  },
  {
   "cell_type": "code",
   "execution_count": null,
   "metadata": {},
   "outputs": [],
   "source": []
  }
 ],
 "metadata": {
  "kernelspec": {
   "display_name": "venv (notes)",
   "language": "python",
   "name": "notes_venv"
  },
  "language_info": {
   "codemirror_mode": {
    "name": "ipython",
    "version": 3
   },
   "file_extension": ".py",
   "mimetype": "text/x-python",
   "name": "python",
   "nbconvert_exporter": "python",
   "pygments_lexer": "ipython3",
   "version": "3.9.1"
  }
 },
 "nbformat": 4,
 "nbformat_minor": 4
}
