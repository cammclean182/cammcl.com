{
 "cells": [
  {
   "cell_type": "markdown",
   "metadata": {},
   "source": [
    "# Build Notes\n",
    "\n",
    "This notebook builds the notes section of the site.\n"
   ]
  },
  {
   "cell_type": "code",
   "execution_count": 71,
   "metadata": {},
   "outputs": [],
   "source": [
    "# Load libraries\n",
    "import os\n",
    "import re\n",
    "import fileinput\n",
    "import sys\n",
    "from glob import glob\n",
    "import shutil"
   ]
  },
  {
   "cell_type": "code",
   "execution_count": 72,
   "metadata": {},
   "outputs": [],
   "source": [
    "# Create path to notes folder\n",
    "path = './'"
   ]
  },
  {
   "cell_type": "code",
   "execution_count": 73,
   "metadata": {},
   "outputs": [
    {
     "data": {
      "text/plain": [
       "['./data_visualisation\\\\matplotlib_placeholder.md',\n",
       " './data_visualisation\\\\plotly_placeholder.md',\n",
       " './pandas\\\\pandas_placeholder.md',\n",
       " './python\\\\virtual_environments.md']"
      ]
     },
     "execution_count": 73,
     "metadata": {},
     "output_type": "execute_result"
    }
   ],
   "source": [
    "# Find all existing markdown files in notes folder\n",
    "all_md_files = [os.path.join(root, name)\n",
    "                    for root, dirs, files in os.walk(path)\n",
    "                        for name in files\n",
    "                            if name.endswith((\".md\"))]\n",
    "\n",
    "all_md_files.remove(\"./_index.md\")\n",
    "all_md_files"
   ]
  },
  {
   "cell_type": "code",
   "execution_count": 74,
   "metadata": {},
   "outputs": [],
   "source": [
    "# delete existing files - what about folders with images though?\n",
    "for file in all_md_files:\n",
    "    os.remove(file)"
   ]
  },
  {
   "cell_type": "code",
   "execution_count": 75,
   "metadata": {},
   "outputs": [
    {
     "data": {
      "text/plain": [
       "['./data_visualisation\\\\matplotlib_placeholder.ipynb',\n",
       " './data_visualisation\\\\plotly_placeholder.ipynb',\n",
       " './markdown\\\\markdown_placeholder.ipynb',\n",
       " './pandas\\\\pandas_placeholder.ipynb',\n",
       " './python\\\\virtual_environments.ipynb',\n",
       " './version_control\\\\git_basics_placeholder.ipynb']"
      ]
     },
     "execution_count": 75,
     "metadata": {},
     "output_type": "execute_result"
    }
   ],
   "source": [
    "# Find all jupyter notebooks in all content folders\n",
    "all_ipynb_files = [os.path.join(root, name)\n",
    "                   for root, dirs, files in os.walk(path)\n",
    "                       for name in files\n",
    "                           if name.endswith((\".ipynb\"))]\n",
    "\n",
    "# Remove all notebooks from checkpoint folders\n",
    "ipynb_files = [x for x in all_ipynb_files if \".ipynb_checkpoints\" not in x ]\n",
    "ipynb_files.remove(\"./build.ipynb\")\n",
    "ipynb_files"
   ]
  },
  {
   "cell_type": "code",
   "execution_count": 76,
   "metadata": {},
   "outputs": [],
   "source": [
    "# For each file\n",
    "for file in ipynb_files:\n",
    "    # Convert into markdown\n",
    "    os.system('jupyter nbconvert --to markdown {file}'.format(file=file))"
   ]
  },
  {
   "cell_type": "code",
   "execution_count": 77,
   "metadata": {},
   "outputs": [
    {
     "data": {
      "text/plain": [
       "['./',\n",
       " './data_visualisation',\n",
       " './data_visualisation\\\\matplotlib_placeholder',\n",
       " './data_visualisation\\\\matplotlib_placeholder_files',\n",
       " './data_visualisation\\\\plotly_placeholder',\n",
       " './markdown',\n",
       " './pandas',\n",
       " './python',\n",
       " './version_control']"
      ]
     },
     "execution_count": 77,
     "metadata": {},
     "output_type": "execute_result"
    }
   ],
   "source": [
    "# Get all folders in directory\n",
    "folders = [x[0] for x in os.walk(path)]\n",
    "# Delete .ipynb checkpoint folders\n",
    "folders = [x for x in folders if \".ipynb_checkpoints\" not in x]\n",
    "folders"
   ]
  },
  {
   "cell_type": "code",
   "execution_count": 78,
   "metadata": {},
   "outputs": [],
   "source": [
    "# For each folder\n",
    "for folder_name in folders:\n",
    "    # if _files in folder name\n",
    "    if '_files' in folder_name:\n",
    "        \n",
    "        # Create a new folder name\n",
    "        def rchop(thestring, ending):\n",
    "            if thestring.endswith(ending):\n",
    "                return thestring[:-len(ending)]\n",
    "            return thestring\n",
    "\n",
    "        new_folder_name = rchop(folder_name, '_files')\n",
    "        \n",
    "        # try to rename original folder\n",
    "        try:\n",
    "            os.rename(folder_name, new_folder_name)\n",
    "            # if error, \n",
    "        except OSError:\n",
    "            existing_base_folder = os.getcwd()+\"/\"+new_folder_name\n",
    "            justcreated_base_folder = os.getcwd()+\"/\"+folder_name\n",
    "                 \n",
    "            # get a list of all files in the folder\n",
    "            generated_files = os.listdir(justcreated_base_folder)\n",
    "            \n",
    "            # copy each file to the existing folder\n",
    "            for generated_file in generated_files:\n",
    "                to_copy = justcreated_base_folder+\"/\"+generated_file\n",
    "                shutil.copy(to_copy, existing_base_folder)\n",
    "  \n",
    "            # delete the newly created _files folder\n",
    "            shutil.rmtree(justcreated_base_folder)    "
   ]
  },
  {
   "cell_type": "code",
   "execution_count": 79,
   "metadata": {},
   "outputs": [
    {
     "data": {
      "text/plain": [
       "['./data_visualisation\\\\matplotlib_placeholder.md',\n",
       " './data_visualisation\\\\plotly_placeholder.md',\n",
       " './markdown\\\\markdown_placeholder.md',\n",
       " './pandas\\\\pandas_placeholder.md',\n",
       " './python\\\\virtual_environments.md',\n",
       " './version_control\\\\git_basics_placeholder.md']"
      ]
     },
     "execution_count": 79,
     "metadata": {},
     "output_type": "execute_result"
    }
   ],
   "source": [
    "def replaceAll(file,searchExp,replaceExp):\n",
    "    for line in fileinput.input(file, inplace=1):\n",
    "        if searchExp in line:\n",
    "            line = line.replace(searchExp,replaceExp)\n",
    "        sys.stdout.write(line)\n",
    "\n",
    "# Find all markdown files in all content folders\n",
    "all_md_files = [os.path.join(root, name)\n",
    "               for root, dirs, files in os.walk(path)\n",
    "               for name in files\n",
    "               if name.endswith((\".md\"))]\n",
    "\n",
    "\n",
    "all_md_files.remove(\"./_index.md\")\n",
    "all_md_files"
   ]
  },
  {
   "cell_type": "code",
   "execution_count": 80,
   "metadata": {},
   "outputs": [],
   "source": [
    "for file in all_md_files:\n",
    "    with open(file,'r+') as f:\n",
    "        filedata = f.read()\n",
    "        \n",
    "    # Find all markdown link syntaxes\n",
    "    md_links = re.findall('!\\\\[[^\\\\]]+\\\\]\\\\([^)]+\\\\)', filedata)\n",
    "\n",
    "    # For each markdown link\n",
    "    for link in md_links:\n",
    "        # Replace the full file path\n",
    "        md_image_path = re.search(r'\\((.*?)\\)', link).group(1)\n",
    "        md_image_filename = os.path.basename(md_image_path)\n",
    "        md_image_title = re.search(r'\\[(.*?)\\]', link).group(1)\n",
    "        new_link = \"![\"+md_image_title+\"](\"+md_image_filename+\")\"\n",
    "        filedata = filedata.replace(link,new_link)\n",
    "    \n",
    "    with open(file, 'w') as file:    \n",
    "        file.write(filedata)\n",
    "            \n",
    "            #replaceAll(file, link, new_link)"
   ]
  },
  {
   "cell_type": "markdown",
   "metadata": {},
   "source": [
    "file = all_md_files[0]\n",
    "\n",
    "with open(file,'r+') as f:\n",
    "    filedata = f.read()\n",
    "\n",
    "md_links = re.findall('!\\\\[[^\\\\]]+\\\\]\\\\([^)]+\\\\)', filedata)\n",
    "md_links\n"
   ]
  },
  {
   "cell_type": "markdown",
   "metadata": {},
   "source": [
    "<img src=\"matplomtlib\\airplane-flight.jpg\" width=200 height=150 />"
   ]
  },
  {
   "cell_type": "markdown",
   "metadata": {},
   "source": [
    "with open(all_md_files[0],'r+') as f:\n",
    "    filedata = f.read()\n",
    "\n",
    "md_links = re.findall('!\\\\[[^\\\\]]+\\\\]\\\\([^)]+\\\\)', filedata)\n",
    "md_links"
   ]
  },
  {
   "cell_type": "markdown",
   "metadata": {},
   "source": [
    "link = md_links[3]\n",
    "print(link)\n",
    "md_image_path = re.search(r'\\((.*?)\\)', link).group(1)\n",
    "print(md_image_path)\n",
    "md_image_filename = os.path.basename(md_image_path)\n",
    "print(md_image_filename)\n",
    "md_image_title = re.search(r'\\[(.*?)\\]', link).group(1)\n",
    "print(md_image_title)\n",
    "new_link = \"![\"+md_image_title+\"](\"+md_image_filename+\")\"\n",
    "print(new_link)"
   ]
  },
  {
   "cell_type": "code",
   "execution_count": null,
   "metadata": {},
   "outputs": [],
   "source": []
  },
  {
   "cell_type": "code",
   "execution_count": null,
   "metadata": {},
   "outputs": [],
   "source": []
  },
  {
   "cell_type": "code",
   "execution_count": null,
   "metadata": {},
   "outputs": [],
   "source": []
  },
  {
   "cell_type": "code",
   "execution_count": null,
   "metadata": {},
   "outputs": [],
   "source": []
  },
  {
   "cell_type": "code",
   "execution_count": null,
   "metadata": {},
   "outputs": [],
   "source": []
  },
  {
   "cell_type": "code",
   "execution_count": null,
   "metadata": {},
   "outputs": [],
   "source": []
  },
  {
   "cell_type": "code",
   "execution_count": null,
   "metadata": {},
   "outputs": [],
   "source": []
  },
  {
   "cell_type": "code",
   "execution_count": null,
   "metadata": {},
   "outputs": [],
   "source": []
  },
  {
   "cell_type": "code",
   "execution_count": null,
   "metadata": {},
   "outputs": [],
   "source": []
  },
  {
   "cell_type": "code",
   "execution_count": null,
   "metadata": {},
   "outputs": [],
   "source": []
  },
  {
   "cell_type": "markdown",
   "metadata": {},
   "source": [
    "import pathlib\n",
    "\n",
    "filename_list = []\n",
    "\n",
    "notes_folder = pathlib.Path().resolve()\n",
    "notes_folder\n",
    "\n",
    "file_iterator = notes_folder.iterdir()\n",
    "file_iterator\n",
    "\n",
    "for entry in file_iterator:\n",
    "    if entry.is_file():\n",
    "        print(entry.name)\n",
    "        #filename_list.append(entry.name)\n",
    "        \n",
    "from pathlib import Path\n",
    "\n",
    "notes_folder = pathlib.Path().resolve()\n",
    "paths = Path('C:\\Users\\admin').glob('**/*.png')\n",
    "for path in paths:\n",
    "    # because path is object not string\n",
    "    path_in_str = str(path)\n",
    "    # Do thing with the path\n",
    "    print(path_in_str)\n",
    "    \n",
    "notes_folder\n",
    "\n",
    "paths = pathlib.Path(notes_folder).glob('**/*.ipynb')\n",
    "paths\n",
    "\n",
    "for path in paths:\n",
    "    # because path is object not string\n",
    "    path_in_str = str(path)\n",
    "    # Do thing with the path\n",
    "    print(path_in_str)"
   ]
  },
  {
   "cell_type": "code",
   "execution_count": null,
   "metadata": {},
   "outputs": [],
   "source": []
  }
 ],
 "metadata": {
  "kernelspec": {
   "display_name": "venv (notes)",
   "language": "python",
   "name": "notes_venv"
  },
  "language_info": {
   "codemirror_mode": {
    "name": "ipython",
    "version": 3
   },
   "file_extension": ".py",
   "mimetype": "text/x-python",
   "name": "python",
   "nbconvert_exporter": "python",
   "pygments_lexer": "ipython3",
   "version": "3.9.1"
  }
 },
 "nbformat": 4,
 "nbformat_minor": 4
}
