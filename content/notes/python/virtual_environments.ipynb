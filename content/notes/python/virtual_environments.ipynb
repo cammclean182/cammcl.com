{
 "cells": [
  {
   "cell_type": "markdown",
   "metadata": {},
   "source": [
    "---\n",
    "title: \"Virtual Environments with venv\"\n",
    "subtitle: \"A cheatsheet for using venv to create, activate and use virtual environments.\"\n",
    "author: \"Cam\"\n",
    "date: 2021-01-01\n",
    "description: \"A cheatsheet for using venv to create, activate and use virtual environments.\"\n",
    "summary: \"A cheatsheet for using venv to create, activate and use virtual environments.\"\n",
    "type: note\n",
    "categories: [\"Python\", \"Cheat Sheets\"]\n",
    "tags: [\"best practices\", \"virtual environments\", \"venv\"]\n",
    "draft: false\n",
    "---\n",
    "\n",
    "{{< toc >}}"
   ]
  },
  {
   "cell_type": "markdown",
   "metadata": {},
   "source": [
    "## What is a Virtual Environment\n",
    "\n",
    "A virtual environment is an isolated environment where the Python interpreter, libraries and scripts installed are kept completely separate from other environments including the system environment installed on your operating system."
   ]
  },
  {
   "cell_type": "markdown",
   "metadata": {},
   "source": [
    "## Creating a Virtual Environment with venv\n",
    "\n",
    "Since Python 3.3. Python has included venv in its standard libraries. To create a virtual environment with the name name_of_venv type `python -m venv name_of_venv`\n"
   ]
  },
  {
   "cell_type": "markdown",
   "metadata": {},
   "source": [
    "## Activating a Virtual Environment\n",
    "\n",
    "To activate the virtual environment type `name_of_venv\\Scripts\\activate python`\n",
    "\n",
    "The command line interface will now start with (name_of_venv) to show you it has been activated.\n",
    "\n",
    "You can now install packages with pip: `pip install jupyter`"
   ]
  },
  {
   "cell_type": "markdown",
   "metadata": {},
   "source": [
    "## Deactivating a Virtual Environment\n",
    "\n",
    "To deactivate the virtual environment type `deactivate`"
   ]
  },
  {
   "cell_type": "markdown",
   "metadata": {},
   "source": [
    "## Add the Virtual Environment as a Python Kernel in Jupyter\n",
    "\n",
    "Jupyter uses the default system IPython kernel but you have to manually add a kernel for the virtual environment you just created.\n",
    "\n",
    "To add the virtual enviroment to Jupyter, first you need to:\n",
    "1. activate the environment\n",
    "2. install jupyter (which includes the library ipykernel)\n",
    "3. type `python -m ipykernel install --user --name=name_of_venv`"
   ]
  },
  {
   "cell_type": "markdown",
   "metadata": {},
   "source": [
    "## List Kernels added in Jupyter\n",
    "\n",
    "type `jupyter kernelspec list`"
   ]
  },
  {
   "cell_type": "markdown",
   "metadata": {},
   "source": [
    "## Remove a Kernel\n",
    "\n",
    "type `jupyter kernelspec remove name_of_venv`"
   ]
  },
  {
   "cell_type": "markdown",
   "metadata": {},
   "source": [
    "## References\n",
    "\n",
    "- [venv Docs](https://docs.python.org/3/library/venv.html)\n",
    "- [IPython Docs](https://ipython.readthedocs.io/en/stable/install/kernel_install.html)"
   ]
  },
  {
   "cell_type": "code",
   "execution_count": 1,
   "metadata": {},
   "outputs": [
    {
     "name": "stdout",
     "output_type": "stream",
     "text": [
      "OS: win32\n",
      "Python 3.9.1\n",
      "jupyterlab 2.2.0\n"
     ]
    }
   ],
   "source": [
    "#Versions used in this notebook\n",
    "import sys\n",
    "print(\"OS:\", sys.platform)\n",
    "\n",
    "!python --version\n",
    "\n",
    "from importlib.metadata import version\n",
    "for library in [\"jupyterlab\"]:\n",
    "    print(library, version(library))   "
   ]
  }
 ],
 "metadata": {
  "kernelspec": {
   "display_name": "venv (notes)",
   "language": "python",
   "name": "notes_venv"
  },
  "language_info": {
   "codemirror_mode": {
    "name": "ipython",
    "version": 3
   },
   "file_extension": ".py",
   "mimetype": "text/x-python",
   "name": "python",
   "nbconvert_exporter": "python",
   "pygments_lexer": "ipython3",
   "version": "3.9.1"
  }
 },
 "nbformat": 4,
 "nbformat_minor": 4
}
