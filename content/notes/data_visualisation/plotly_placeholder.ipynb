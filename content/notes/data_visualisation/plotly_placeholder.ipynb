{
 "cells": [
  {
   "cell_type": "markdown",
   "metadata": {},
   "source": [
    "---\n",
    "title: \"Plotly Placeholder\"\n",
    "subtitle: \"A placeholder note for plotly chart basics.\"\n",
    "author: \"Cam\"\n",
    "date: 2021-01-01\n",
    "description: \"A placeholder note for plotly chart basics.\"\n",
    "summary: \"A placeholder note for plotly chart basics.\"\n",
    "type: note\n",
    "categories: [\"Python\", \"Data Visualisation\"]\n",
    "tags: [\"charts\", \"plotly\"]\n",
    "draft: false\n",
    "---\n",
    "\n",
    "{{< toc >}}"
   ]
  },
  {
   "cell_type": "markdown",
   "metadata": {},
   "source": [
    "## Installation\n",
    "\n",
    "To install `pip install matplotlib`"
   ]
  },
  {
   "cell_type": "markdown",
   "metadata": {},
   "source": [
    "## Sample Plotly Chart\n",
    "\n",
    "Here's a sample chart from the plotly gallery."
   ]
  },
  {
   "cell_type": "code",
   "execution_count": 4,
   "metadata": {},
   "outputs": [],
   "source": [
    "import yfinance as yf\n",
    "import plotly.graph_objects as go\n",
    "import pandas as pd\n",
    "\n",
    "#from datetime import datetime\n",
    "ticker = 'BTC-USD' #'TSLA'#\n",
    "stock_data = yf.Ticker(ticker)\n",
    "\n",
    "#is this adjusted?\n",
    "ohlc = stock_data.history(period=\"max\").drop(columns=['Dividends','Stock Splits'])\n",
    "ohlc[\"EMA(50d)\"] = ohlc[\"Close\"].ewm(span=50).mean()\n",
    "ohlc[\"EMA(200d)\"] = ohlc[\"Close\"].ewm(span=200).mean()\n",
    "# need to work out how to add without affeting next step\n",
    "ohlc.tail()\n",
    "\n",
    "agg_dict={'Open': 'first',\n",
    "          'High': 'max',\n",
    "          'Low': 'min',\n",
    "          'Close': 'last',\n",
    "          'Volume': 'sum'}\n",
    "\n",
    "weekly_ohlc = ohlc.resample('W-FRI').agg(agg_dict)\n",
    "\n",
    "weekly_ohlc[\"EMA(10w)\"] = weekly_ohlc[\"Close\"].ewm(span=10).mean()\n",
    "weekly_ohlc[\"EMA(35w)\"] = weekly_ohlc[\"Close\"].ewm(span=35).mean()\n",
    "\n",
    "up_colour = '#3d9970' #default up / '#0080ff' is #bloomberg blue\n",
    "down_colour = '#ff4136' #default down\n",
    "#set up three themes? camdefault/tradethetape, yahoo, bloomberg?\n",
    "\n",
    "candlestick = go.Candlestick(\n",
    "    x=weekly_ohlc.index,\n",
    "    open=weekly_ohlc['Open'],\n",
    "    high=weekly_ohlc['High'],\n",
    "    low=weekly_ohlc['Low'],\n",
    "    close=weekly_ohlc['Close'],\n",
    "    name = f'Last Price {weekly_ohlc[\"Close\"][-1]:.2f}',\n",
    "    yaxis='y2',\n",
    "    increasing_line_color=up_colour,\n",
    "    decreasing_line_color=down_colour\n",
    ")\n",
    "\n",
    "volume = go.Bar(\n",
    "    x=weekly_ohlc.index, \n",
    "    y=weekly_ohlc['Volume'],\n",
    "    yaxis='y',\n",
    "    name=f'Volume {weekly_ohlc[\"Volume\"][-1]/1000000:.1f}M',\n",
    "    marker_color = [down_colour if close_minus_open < 0 else up_colour for close_minus_open in (weekly_ohlc['Close']-weekly_ohlc['Open']).tolist()]\n",
    ")\n",
    "\n",
    "ema_short = go.Scatter(\n",
    "    x=weekly_ohlc.index, \n",
    "    y=weekly_ohlc['EMA(10w)'],\n",
    "    mode='lines',\n",
    "    name=f'EMA(10w) {weekly_ohlc[\"EMA(10w)\"][-1]:.2f}',\n",
    "    line_color ='red',\n",
    "    yaxis='y2'\n",
    ")\n",
    "\n",
    "ema_long = go.Scatter(\n",
    "    x=weekly_ohlc.index, \n",
    "    y=weekly_ohlc['EMA(35w)'],\n",
    "    mode='lines',\n",
    "    name=f'EMA(35w) {weekly_ohlc[\"EMA(35w)\"][-1]:.2f}',\n",
    "    line_color ='blue',\n",
    "    yaxis='y2'\n",
    ") \n",
    "\n",
    "layout = go.Layout(\n",
    "    template='seaborn', #plotly_dark\n",
    "    title = {'text': stock_data.info['shortName'], 'font': {'size': 18}},\n",
    "    yaxis = {'side': 'left', 'domain': [0, 0.2], 'showticklabels': False},\n",
    "    yaxis2 = {'title': f'Price ({stock_data.info[\"currency\"]})', 'side':'right', 'domain': [0.2,  1]}, #'type': 'log', \n",
    "    hovermode='x unified',\n",
    "    width=1000, height=600,\n",
    "    legend = {'yanchor': 'top', 'y': 0.99, 'xanchor': 'left', 'x': 0.01},\n",
    "    xaxis= {\n",
    "        'range': [weekly_ohlc.index[-70], weekly_ohlc.index[-1]+(weekly_ohlc.index[-1]-weekly_ohlc.index[-2])], #default range - 70 bars adds space on right\n",
    "        'rangeslider': {'visible': False},\n",
    "        'rangeselector':{'buttons': [{\n",
    "            'label': '1M', 'step': 'month', 'count': 1, 'stepmode': 'backward'},\n",
    "            {'label': '6M', 'step': 'month', 'count': 6, 'stepmode': 'backward'},\n",
    "            {'label': '1Y', 'step': 'year', 'count': 1, 'stepmode': 'backward'},\n",
    "            {'label': '3Y', 'step': 'year', 'count': 3, 'stepmode': 'backward'},\n",
    "            {'label': 'Max','step': 'all'}]}},\n",
    "    #paper_bgcolor=\"LightSteelBlue\",\n",
    "    #utosize=True,\n",
    "    margin=dict(l=60, r=60, b=60, t=75) #default seems to be 80,80,80,100\n",
    "    #)\n",
    ")\n",
    "\n",
    "data = [candlestick, volume, ema_short, ema_long]\n",
    "fig = go.Figure(data=data,layout=layout)\n",
    "\n",
    "fig.write_json('candlestick.json')\n",
    "\n",
    "#see subplots instead? can then do daily/weekly timescales?\n",
    "# fix hover"
   ]
  },
  {
   "cell_type": "markdown",
   "metadata": {},
   "source": [
    "{{< chart data=\"candlestick\" >}} "
   ]
  },
  {
   "cell_type": "markdown",
   "metadata": {},
   "source": [
    "## References\n",
    "\n",
    "- [venv Docs](https://docs.python.org/3/library/venv.html)\n",
    "- [IPython Docs](https://ipython.readthedocs.io/en/stable/install/kernel_install.html)"
   ]
  },
  {
   "cell_type": "code",
   "execution_count": 3,
   "metadata": {},
   "outputs": [
    {
     "name": "stdout",
     "output_type": "stream",
     "text": [
      "OS: win32\n",
      "Python 3.9.1\n",
      "jupyterlab 2.2.0\n",
      "plotly 4.14.3\n",
      "pandas 1.2.0\n",
      "yfinance 0.1.55\n"
     ]
    }
   ],
   "source": [
    "#Versions used in this notebook\n",
    "import sys\n",
    "print(\"OS:\", sys.platform)\n",
    "\n",
    "!python --version\n",
    "\n",
    "from importlib.metadata import version\n",
    "for library in [\"jupyterlab\", \"plotly\", \"pandas\", \"yfinance\"]:\n",
    "    print(library, version(library))   "
   ]
  }
 ],
 "metadata": {
  "kernelspec": {
   "display_name": "venv (notes)",
   "language": "python",
   "name": "notes_venv"
  },
  "language_info": {
   "codemirror_mode": {
    "name": "ipython",
    "version": 3
   },
   "file_extension": ".py",
   "mimetype": "text/x-python",
   "name": "python",
   "nbconvert_exporter": "python",
   "pygments_lexer": "ipython3",
   "version": "3.9.1"
  }
 },
 "nbformat": 4,
 "nbformat_minor": 4
}
